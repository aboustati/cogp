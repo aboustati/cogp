{
 "cells": [
  {
   "cell_type": "code",
   "execution_count": 1,
   "metadata": {},
   "outputs": [],
   "source": [
    "import sys\n",
    "\n",
    "sys.path.append(\"../src/\")\n",
    "\n",
    "from gpflow.kernels import RBF\n",
    "from gpflow.likelihoods import Gaussian\n",
    "from cogp import COGP\n",
    "\n",
    "import numpy as np\n",
    "import tensorflow as tf"
   ]
  },
  {
   "cell_type": "code",
   "execution_count": 2,
   "metadata": {},
   "outputs": [
    {
     "data": {
      "text/plain": [
       "(100, 1)"
      ]
     },
     "execution_count": 2,
     "metadata": {},
     "output_type": "execute_result"
    }
   ],
   "source": [
    "np.random.randn(100)[:, None].shape"
   ]
  },
  {
   "cell_type": "code",
   "execution_count": 3,
   "metadata": {},
   "outputs": [
    {
     "name": "stdout",
     "output_type": "stream",
     "text": [
      "(100, 4) (100, 2) (5, 4)\n"
     ]
    }
   ],
   "source": [
    "X = np.random.randn(100, 3)\n",
    "X_aug = np.hstack([X, np.zeros(X.shape[0])[:,None]])\n",
    "Y = np.sum(X, axis=1)[:,None] + 0.01*np.random.randn(100)[:, None]\n",
    "Y_aug = np.hstack([Y, np.zeros(Y.shape[0])[:,None]])\n",
    "Z = np.random.randn(5, 3)\n",
    "Z_aug = np.hstack([Z, np.zeros(Z.shape[0])[:,None]])\n",
    "print(X_aug.shape, Y_aug.shape, Z_aug.shape)"
   ]
  },
  {
   "cell_type": "code",
   "execution_count": 4,
   "metadata": {
    "collapsed": true
   },
   "outputs": [],
   "source": [
    "shared = [RBF(4)]#, active_dims=list(range(3)))]\n",
    "tasks = [RBF(3, active_dims=list(range(3)))]"
   ]
  },
  {
   "cell_type": "code",
   "execution_count": 5,
   "metadata": {},
   "outputs": [],
   "source": [
    "k=shared[0]"
   ]
  },
  {
   "cell_type": "code",
   "execution_count": 6,
   "metadata": {},
   "outputs": [
    {
     "data": {
      "text/plain": [
       "slice(None, 4, None)"
      ]
     },
     "execution_count": 6,
     "metadata": {},
     "output_type": "execute_result"
    }
   ],
   "source": [
    "k.active_dims"
   ]
  },
  {
   "cell_type": "code",
   "execution_count": 7,
   "metadata": {
    "collapsed": true
   },
   "outputs": [],
   "source": [
    "lik = Gaussian()"
   ]
  },
  {
   "cell_type": "code",
   "execution_count": 8,
   "metadata": {},
   "outputs": [
    {
     "name": "stderr",
     "output_type": "stream",
     "text": [
      "../src/cogp.py:57: UserWarning: One of the shared kernels is acting on all dimensions including the task index!\n",
      "  warnings.warn(\"One of the shared kernels is acting on all dimensions including the task index!\")\n"
     ]
    }
   ],
   "source": [
    "model = COGP(X_aug, Y_aug, shared, tasks, lik, Z_aug)"
   ]
  },
  {
   "cell_type": "code",
   "execution_count": 9,
   "metadata": {},
   "outputs": [
    {
     "data": {
      "text/plain": [
       "     fun: 288.64324871054424\n",
       "     jac: array([ -5.72733493e-03,  -2.35634401e-03,   3.48286223e-03,\n",
       "        -0.00000000e+00,  -3.72753419e-03,  -7.64714647e-03,\n",
       "        -3.49687393e-03,  -0.00000000e+00,   8.89856959e-05,\n",
       "        -1.76036757e-03,  -4.97582679e-03,  -0.00000000e+00,\n",
       "        -1.97748024e-03,   1.06809209e-03,  -8.66940910e-04,\n",
       "        -0.00000000e+00,  -6.84915496e-04,  -7.73818434e-04,\n",
       "        -2.15145295e-04,  -0.00000000e+00,  -5.72733493e-03,\n",
       "        -2.35634401e-03,   3.48286223e-03,  -0.00000000e+00,\n",
       "        -3.72753419e-03,  -7.64714647e-03,  -3.49687393e-03,\n",
       "        -0.00000000e+00,   8.89856959e-05,  -1.76036757e-03,\n",
       "        -4.97582679e-03,  -0.00000000e+00,  -1.97748024e-03,\n",
       "         1.06809209e-03,  -8.66940910e-04,  -0.00000000e+00,\n",
       "        -6.84915496e-04,  -7.73818434e-04,  -2.15145295e-04,\n",
       "        -0.00000000e+00,  -8.82156266e-01,  -2.12664326e-01,\n",
       "        -8.82156266e-01,  -2.12664326e-01,   8.69683170e-02,\n",
       "         3.31465754e-02,   6.30124657e-02,   2.24728299e-02,\n",
       "         2.21103361e-02,   1.41145011e-02,   3.31465754e-02,\n",
       "         6.30124657e-02,   2.24728299e-02,   2.21103361e-02,\n",
       "         1.41145011e-02,   5.20332605e-03,   1.18281382e-03,\n",
       "        -1.47056438e-03,   1.09778238e-03,  -5.35058892e-05,\n",
       "        -2.52371701e-03,   1.72273626e-03,   8.63343511e-04,\n",
       "         1.35901906e-03,  -1.60918945e-02,   7.38443068e-04,\n",
       "        -8.30334111e-04,  -5.69525856e-04,   9.21191723e-03,\n",
       "        -1.02332455e-02,   5.20332605e-03,   1.18281382e-03,\n",
       "        -1.47056438e-03,   1.09778238e-03,  -5.35058892e-05,\n",
       "        -2.52371701e-03,   1.72273626e-03,   8.63343511e-04,\n",
       "         1.35901906e-03,  -1.60918945e-02,   7.38443068e-04,\n",
       "        -8.30334111e-04,  -5.69525856e-04,   9.21191723e-03,\n",
       "        -1.02332455e-02])\n",
       " message: 'Finished iterations.'\n",
       "  status: 'Finished iterations.'\n",
       " success: True\n",
       "       x: array([-0.25490271,  2.09266822,  0.38766568,  0.        ,  1.64545488,\n",
       "        0.48044767,  0.55173003,  0.        , -0.78450274, -0.12823099,\n",
       "        0.86766608,  0.        ,  0.67346229, -1.63912429, -0.15513352,\n",
       "        0.        , -0.34344262, -0.17347657, -1.21258409,  0.        ,\n",
       "       -0.25490271,  2.09266822,  0.38766568,  0.        ,  1.64545488,\n",
       "        0.48044767,  0.55173003,  0.        , -0.78450274, -0.12823099,\n",
       "        0.86766608,  0.        ,  0.67346229, -1.63912429, -0.15513352,\n",
       "        0.        , -0.34344262, -0.17347657, -1.21258409,  0.        ,\n",
       "        3.24007706, -0.77638622,  3.24007706, -0.77638622,  0.41859409,\n",
       "        0.87327195,  0.66799129, -1.47444531, -1.30128236, -1.26434228,\n",
       "        0.87327195,  0.66799129, -1.47444531, -1.30128236, -1.26434228,\n",
       "        0.26754753, -0.26220279,  0.34839978, -0.2125581 , -0.14369012,\n",
       "        0.33067717,  0.16222847, -0.23771033, -0.21728301,  0.50566594,\n",
       "       -0.19106856,  0.0588951 , -0.03005897, -0.3212229 ,  0.42074418,\n",
       "        0.26754753, -0.26220279,  0.34839978, -0.2125581 , -0.14369012,\n",
       "        0.33067717,  0.16222847, -0.23771033, -0.21728301,  0.50566594,\n",
       "       -0.19106856,  0.0588951 , -0.03005897, -0.3212229 ,  0.42074418])"
      ]
     },
     "execution_count": 9,
     "metadata": {},
     "output_type": "execute_result"
    }
   ],
   "source": [
    "model.optimize(tf.train.AdagradOptimizer(0.1))"
   ]
  },
  {
   "cell_type": "code",
   "execution_count": 10,
   "metadata": {},
   "outputs": [
    {
     "data": {
      "text/plain": [
       "1"
      ]
     },
     "execution_count": 10,
     "metadata": {},
     "output_type": "execute_result"
    }
   ],
   "source": [
    "Y.shape[1]"
   ]
  }
 ],
 "metadata": {
  "kernelspec": {
   "display_name": "Python 3",
   "language": "python",
   "name": "python3"
  },
  "language_info": {
   "codemirror_mode": {
    "name": "ipython",
    "version": 3
   },
   "file_extension": ".py",
   "mimetype": "text/x-python",
   "name": "python",
   "nbconvert_exporter": "python",
   "pygments_lexer": "ipython3",
   "version": "3.6.2"
  }
 },
 "nbformat": 4,
 "nbformat_minor": 2
}
